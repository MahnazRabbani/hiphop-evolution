{
 "cells": [
  {
   "cell_type": "code",
   "execution_count": 1,
   "metadata": {},
   "outputs": [],
   "source": [
    "import pandas as pd\n"
   ]
  },
  {
   "cell_type": "code",
   "execution_count": 2,
   "metadata": {},
   "outputs": [],
   "source": [
    "df = pd.read_csv('../data/hiphop_eras_songs.csv')\n"
   ]
  },
  {
   "cell_type": "code",
   "execution_count": 4,
   "metadata": {},
   "outputs": [
    {
     "name": "stdout",
     "output_type": "stream",
     "text": [
      "(70, 5)\n",
      "Index(['Song Title', 'Artist', 'Year', 'Era', 'Lyrics'], dtype='object')\n"
     ]
    }
   ],
   "source": [
    "df.head()\n",
    "print(df.shape)\n",
    "print(df.columns)\n"
   ]
  },
  {
   "cell_type": "code",
   "execution_count": 5,
   "metadata": {},
   "outputs": [
    {
     "data": {
      "text/plain": [
       "<bound method NDFrame.head of           Song Title                     Artist  Year              Era  \\\n",
       "0   Rapper's Delight             Sugarhill Gang  1979       Old School   \n",
       "1         The Breaks                Kurtis Blow  1980       Old School   \n",
       "2        The Message          Grandmaster Flash  1982       Old School   \n",
       "3        Planet Rock           Afrika Bambaataa  1982       Old School   \n",
       "4             Apache  The Incredible Bongo Band  1981       Old School   \n",
       "..               ...                        ...   ...              ...   \n",
       "65     Drip Too Hard           Lil Baby & Gunna  2018  Blog Era & Trap   \n",
       "66     Hotline Bling                      Drake  2015  Blog Era & Trap   \n",
       "67        God's Plan                      Drake  2018  Blog Era & Trap   \n",
       "68      Lucid Dreams                 Juice WRLD  2018  Blog Era & Trap   \n",
       "69     Old Town Road                  Lil Nas X  2019  Blog Era & Trap   \n",
       "\n",
       "                                               Lyrics  \n",
       "0   [Chorus: Wonder Mike]\\nI said a hip-hop, the h...  \n",
       "1   [Intro]\\nClap your hands everybody\\nIf you got...  \n",
       "2   [Intro: Duke Bootee]\\nIt's like a jungle somet...  \n",
       "3   [Intro: Afrika Bambaataa]\\nParty peopleParty p...  \n",
       "4                                                 NaN  \n",
       "..                                                ...  \n",
       "65  [Intro]\\nRun that back, Turbo\\n\\n[Verse 1: Lil...  \n",
       "66  [Intro]\\nYou used to call me on myYou used to,...  \n",
       "67  [Intro]\\nAnd they wishin' and wishin'And wishi...  \n",
       "68  [Intro]\\nEnviyon on the mix\\nNo, no, no, no\\nN...  \n",
       "69  [Intro]\\nYeah, I'm gonna take my horse to the ...  \n",
       "\n",
       "[70 rows x 5 columns]>"
      ]
     },
     "execution_count": 5,
     "metadata": {},
     "output_type": "execute_result"
    }
   ],
   "source": [
    "df.head"
   ]
  },
  {
   "cell_type": "code",
   "execution_count": null,
   "metadata": {},
   "outputs": [],
   "source": [
    "songs = df.to_dict()"
   ]
  }
 ],
 "metadata": {
  "kernelspec": {
   "display_name": "venv",
   "language": "python",
   "name": "python3"
  },
  "language_info": {
   "codemirror_mode": {
    "name": "ipython",
    "version": 3
   },
   "file_extension": ".py",
   "mimetype": "text/x-python",
   "name": "python",
   "nbconvert_exporter": "python",
   "pygments_lexer": "ipython3",
   "version": "3.12.4"
  },
  "orig_nbformat": 4,
  "vscode": {
   "interpreter": {
    "hash": "26de8eda6ae319b2298f4f253d77994538e13b884c70b968c092ca99ae2b106d"
   }
  }
 },
 "nbformat": 4,
 "nbformat_minor": 2
}
