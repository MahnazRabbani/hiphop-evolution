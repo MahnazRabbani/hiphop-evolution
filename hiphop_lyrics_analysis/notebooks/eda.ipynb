{
 "cells": [
  {
   "cell_type": "code",
   "execution_count": 9,
   "metadata": {},
   "outputs": [],
   "source": [
    "import pandas as pd\n",
    "import string\n",
    "import nltk\n",
    "from nltk.corpus import stopwords\n",
    "from nltk.stem import WordNetLemmatizer\n",
    "from sklearn.feature_extraction.text import TfidfVectorizer\n",
    "from collections import Counter"
   ]
  },
  {
   "cell_type": "code",
   "execution_count": 10,
   "metadata": {},
   "outputs": [
    {
     "name": "stderr",
     "output_type": "stream",
     "text": [
      "[nltk_data] Error loading wordnet: <urlopen error [SSL:\n",
      "[nltk_data]     CERTIFICATE_VERIFY_FAILED] certificate verify failed:\n",
      "[nltk_data]     unable to get local issuer certificate (_ssl.c:1000)>\n"
     ]
    },
    {
     "data": {
      "text/plain": [
       "False"
      ]
     },
     "execution_count": 10,
     "metadata": {},
     "output_type": "execute_result"
    }
   ],
   "source": [
    "import nltk\n",
    "nltk.download('wordnet')"
   ]
  },
  {
   "cell_type": "code",
   "execution_count": 11,
   "metadata": {},
   "outputs": [],
   "source": [
    "df = pd.read_csv('../data/hiphop_eras_songs.csv')"
   ]
  },
  {
   "cell_type": "code",
   "execution_count": 12,
   "metadata": {},
   "outputs": [
    {
     "name": "stdout",
     "output_type": "stream",
     "text": [
      "(70, 5)\n",
      "Index(['Song Title', 'Artist', 'Year', 'Era', 'Lyrics'], dtype='object')\n",
      "         Song Title                     Artist  Year         Era  \\\n",
      "0  Rapper's Delight             Sugarhill Gang  1979  Old School   \n",
      "1        The Breaks                Kurtis Blow  1980  Old School   \n",
      "2       The Message          Grandmaster Flash  1982  Old School   \n",
      "3       Planet Rock           Afrika Bambaataa  1982  Old School   \n",
      "4            Apache  The Incredible Bongo Band  1981  Old School   \n",
      "\n",
      "                                              Lyrics  \n",
      "0  [Chorus: Wonder Mike]\\nI said a hip-hop, the h...  \n",
      "1  [Intro]\\nClap your hands everybody\\nIf you got...  \n",
      "2  [Intro: Duke Bootee]\\nIt's like a jungle somet...  \n",
      "3  [Intro: Afrika Bambaataa]\\nParty peopleParty p...  \n",
      "4                                                NaN  \n"
     ]
    }
   ],
   "source": [
    "print(df.shape)\n",
    "print(df.columns)\n",
    "print(df.head(5))\n"
   ]
  },
  {
   "attachments": {},
   "cell_type": "markdown",
   "metadata": {},
   "source": [
    "After "
   ]
  },
  {
   "attachments": {},
   "cell_type": "markdown",
   "metadata": {},
   "source": [
    "Data cleaning"
   ]
  },
  {
   "cell_type": "code",
   "execution_count": 13,
   "metadata": {},
   "outputs": [
    {
     "name": "stdout",
     "output_type": "stream",
     "text": [
      "Missing Values:\n",
      " Song Title    0\n",
      "Artist        0\n",
      "Year          0\n",
      "Era           0\n",
      "Lyrics        9\n",
      "dtype: int64\n",
      "\n",
      "Era Distribution:\n",
      " Era\n",
      "Blog Era & Trap         10\n",
      "Conscious Resurgence    10\n",
      "East vs. West            9\n",
      "Southern Rap             9\n",
      "Old School               8\n",
      "Bling Era                8\n",
      "Golden Age               7\n",
      "Name: count, dtype: int64\n",
      "\n",
      "Year Distribution:\n",
      " Year\n",
      "2017    6\n",
      "1994    5\n",
      "2018    4\n",
      "2004    3\n",
      "2003    3\n",
      "1996    3\n",
      "2015    3\n",
      "1995    2\n",
      "2000    2\n",
      "2005    2\n",
      "1980    2\n",
      "1992    2\n",
      "1989    2\n",
      "1982    2\n",
      "1983    2\n",
      "2010    2\n",
      "1999    2\n",
      "1987    1\n",
      "1997    1\n",
      "1993    1\n",
      "1984    1\n",
      "1979    1\n",
      "1988    1\n",
      "1991    1\n",
      "2001    1\n",
      "2006    1\n",
      "2002    1\n",
      "2012    1\n",
      "1998    1\n",
      "2016    1\n",
      "2019    1\n",
      "Name: count, dtype: int64\n",
      "(61, 5)\n"
     ]
    }
   ],
   "source": [
    "# 1. Data Exploration and Initial Cleaning\n",
    "def explore_data(df):\n",
    "    # Check missing values\n",
    "    print(\"Missing Values:\\n\", df.isnull().sum())\n",
    "\n",
    "    # Remove rows with missing lyrics\n",
    "    df_clean = df.dropna(subset=['Lyrics'])\n",
    "\n",
    "    # Check distribution of eras\n",
    "    print(\"\\nEra Distribution:\\n\", df_clean['Era'].value_counts())\n",
    "    # Check distribution of years\n",
    "    print(\"\\nYear Distribution:\\n\", df_clean['Year'].value_counts())\n",
    "    \n",
    "    \n",
    "    return df_clean\n",
    "df_clean = explore_data(df)\n",
    "print(df_clean.shape)"
   ]
  },
  {
   "attachments": {},
   "cell_type": "markdown",
   "metadata": {},
   "source": [
    "After removing rows with missing lyrics, we end up with 61 songs."
   ]
  },
  {
   "cell_type": "code",
   "execution_count": 14,
   "metadata": {},
   "outputs": [],
   "source": [
    "# 2. Text Preprocessing for Lyrics\n",
    "def preprocess_lyrics(df):\n",
    "    # Lowercase all lyrics\n",
    "    df['Lyrics'] = df['Lyrics'].str.lower()\n",
    "\n",
    "    # Remove punctuation\n",
    "    df['Lyrics'] = df['Lyrics'].str.translate(str.maketrans('', '', string.punctuation))\n",
    "\n",
    "    # Remove extra whitespace\n",
    "    df['Lyrics'] = df['Lyrics'].str.strip()\n",
    "    df['Lyrics'] = df['Lyrics'].str.replace(r'\\s+', ' ', regex=True)\n",
    "\n",
    "    # Remove stopwords\n",
    "    stop = stopwords.words('english')\n",
    "    df['Lyrics'] = df['Lyrics'].apply(lambda x: ' '.join([word for word in x.split() if word not in stop]))\n",
    "\n",
    "    # Lemmatization\n",
    "    lemmatizer = WordNetLemmatizer()\n",
    "    df['Lyrics'] = df['Lyrics'].apply(lambda x: ' '.join([lemmatizer.lemmatize(word) for word in x.split()]))\n",
    "\n",
    "    return df\n"
   ]
  },
  {
   "cell_type": "code",
   "execution_count": 15,
   "metadata": {},
   "outputs": [],
   "source": [
    "\n",
    "# 3. TF-IDF Vectorization\n",
    "def tfidf_embedding(df):\n",
    "    tfidf = TfidfVectorizer(max_features=5000)\n",
    "    lyrics_tfidf = tfidf.fit_transform(df['Lyrics'])\n",
    "    return lyrics_tfidf\n",
    "\n",
    "# 4. Exploratory Data Analysis (EDA)\n",
    "def exploratory_analysis(df):\n",
    "    # Word frequency\n",
    "    all_words = ' '.join(df['Lyrics']).split()\n",
    "    word_freq = Counter(all_words)\n",
    "    most_common_words = word_freq.most_common(20)\n",
    "    print(\"\\nMost Common Words:\\n\", most_common_words)\n",
    "\n",
    "    # Length of lyrics\n",
    "    df['Lyrics_Length'] = df['Lyrics'].apply(lambda x: len(x.split()))\n",
    "    print(\"\\nLyrics Length Statistics:\\n\", df['Lyrics_Length'].describe())\n",
    "\n",
    "    # Era-based analysis\n",
    "    era_lyrics_length = df.groupby('Era')['Lyrics_Length'].mean()\n",
    "    print(\"\\nAverage Lyrics Length by Era:\\n\", era_lyrics_length)\n",
    "\n",
    "\n"
   ]
  },
  {
   "cell_type": "code",
   "execution_count": 16,
   "metadata": {},
   "outputs": [
    {
     "name": "stdout",
     "output_type": "stream",
     "text": [
      "Missing Values:\n",
      " Song Title    0\n",
      "Artist        0\n",
      "Year          0\n",
      "Era           0\n",
      "Lyrics        9\n",
      "dtype: int64\n",
      "\n",
      "Era Distribution:\n",
      " Era\n",
      "Blog Era & Trap         10\n",
      "Conscious Resurgence    10\n",
      "East vs. West            9\n",
      "Southern Rap             9\n",
      "Old School               8\n",
      "Bling Era                8\n",
      "Golden Age               7\n",
      "Name: count, dtype: int64\n",
      "\n",
      "Year Distribution:\n",
      " Year\n",
      "2017    6\n",
      "1994    5\n",
      "2018    4\n",
      "2004    3\n",
      "2003    3\n",
      "1996    3\n",
      "2015    3\n",
      "1995    2\n",
      "2000    2\n",
      "2005    2\n",
      "1980    2\n",
      "1992    2\n",
      "1989    2\n",
      "1982    2\n",
      "1983    2\n",
      "2010    2\n",
      "1999    2\n",
      "1987    1\n",
      "1997    1\n",
      "1993    1\n",
      "1984    1\n",
      "1979    1\n",
      "1988    1\n",
      "1991    1\n",
      "2001    1\n",
      "2006    1\n",
      "2002    1\n",
      "2012    1\n",
      "1998    1\n",
      "2016    1\n",
      "2019    1\n",
      "Name: count, dtype: int64\n"
     ]
    },
    {
     "name": "stderr",
     "output_type": "stream",
     "text": [
      "/var/folders/2n/hm1qbpc51xqfq4d48nhrz5q80000gn/T/ipykernel_33698/737402915.py:4: SettingWithCopyWarning: \n",
      "A value is trying to be set on a copy of a slice from a DataFrame.\n",
      "Try using .loc[row_indexer,col_indexer] = value instead\n",
      "\n",
      "See the caveats in the documentation: https://pandas.pydata.org/pandas-docs/stable/user_guide/indexing.html#returning-a-view-versus-a-copy\n",
      "  df['Lyrics'] = df['Lyrics'].str.lower()\n",
      "/var/folders/2n/hm1qbpc51xqfq4d48nhrz5q80000gn/T/ipykernel_33698/737402915.py:7: SettingWithCopyWarning: \n",
      "A value is trying to be set on a copy of a slice from a DataFrame.\n",
      "Try using .loc[row_indexer,col_indexer] = value instead\n",
      "\n",
      "See the caveats in the documentation: https://pandas.pydata.org/pandas-docs/stable/user_guide/indexing.html#returning-a-view-versus-a-copy\n",
      "  df['Lyrics'] = df['Lyrics'].str.translate(str.maketrans('', '', string.punctuation))\n",
      "/var/folders/2n/hm1qbpc51xqfq4d48nhrz5q80000gn/T/ipykernel_33698/737402915.py:10: SettingWithCopyWarning: \n",
      "A value is trying to be set on a copy of a slice from a DataFrame.\n",
      "Try using .loc[row_indexer,col_indexer] = value instead\n",
      "\n",
      "See the caveats in the documentation: https://pandas.pydata.org/pandas-docs/stable/user_guide/indexing.html#returning-a-view-versus-a-copy\n",
      "  df['Lyrics'] = df['Lyrics'].str.strip()\n",
      "/var/folders/2n/hm1qbpc51xqfq4d48nhrz5q80000gn/T/ipykernel_33698/737402915.py:11: SettingWithCopyWarning: \n",
      "A value is trying to be set on a copy of a slice from a DataFrame.\n",
      "Try using .loc[row_indexer,col_indexer] = value instead\n",
      "\n",
      "See the caveats in the documentation: https://pandas.pydata.org/pandas-docs/stable/user_guide/indexing.html#returning-a-view-versus-a-copy\n",
      "  df['Lyrics'] = df['Lyrics'].str.replace(r'\\s+', ' ', regex=True)\n",
      "/var/folders/2n/hm1qbpc51xqfq4d48nhrz5q80000gn/T/ipykernel_33698/737402915.py:15: SettingWithCopyWarning: \n",
      "A value is trying to be set on a copy of a slice from a DataFrame.\n",
      "Try using .loc[row_indexer,col_indexer] = value instead\n",
      "\n",
      "See the caveats in the documentation: https://pandas.pydata.org/pandas-docs/stable/user_guide/indexing.html#returning-a-view-versus-a-copy\n",
      "  df['Lyrics'] = df['Lyrics'].apply(lambda x: ' '.join([word for word in x.split() if word not in stop]))\n"
     ]
    },
    {
     "name": "stdout",
     "output_type": "stream",
     "text": [
      "\n",
      "Most Common Words:\n",
      " [('im', 467), ('get', 346), ('like', 317), ('know', 294), ('got', 290), ('nigga', 282), ('dont', 268), ('yeah', 243), ('go', 185), ('verse', 183), ('aint', 164), ('chorus', 158), ('cause', 152), ('back', 151), ('say', 144), ('make', 133), ('thats', 130), ('shit', 124), ('see', 119), ('one', 116)]\n",
      "\n",
      "Lyrics Length Statistics:\n",
      " count      61.000000\n",
      "mean      425.868852\n",
      "std       214.312192\n",
      "min       121.000000\n",
      "25%       315.000000\n",
      "50%       397.000000\n",
      "75%       461.000000\n",
      "max      1636.000000\n",
      "Name: Lyrics_Length, dtype: float64\n",
      "\n",
      "Average Lyrics Length by Era:\n",
      " Era\n",
      "Bling Era               428.500000\n",
      "Blog Era & Trap         291.400000\n",
      "Conscious Resurgence    434.900000\n",
      "East vs. West           457.000000\n",
      "Golden Age              355.857143\n",
      "Old School              578.125000\n",
      "Southern Rap            450.888889\n",
      "Name: Lyrics_Length, dtype: float64\n"
     ]
    },
    {
     "name": "stderr",
     "output_type": "stream",
     "text": [
      "/var/folders/2n/hm1qbpc51xqfq4d48nhrz5q80000gn/T/ipykernel_33698/737402915.py:19: SettingWithCopyWarning: \n",
      "A value is trying to be set on a copy of a slice from a DataFrame.\n",
      "Try using .loc[row_indexer,col_indexer] = value instead\n",
      "\n",
      "See the caveats in the documentation: https://pandas.pydata.org/pandas-docs/stable/user_guide/indexing.html#returning-a-view-versus-a-copy\n",
      "  df['Lyrics'] = df['Lyrics'].apply(lambda x: ' '.join([lemmatizer.lemmatize(word) for word in x.split()]))\n",
      "/var/folders/2n/hm1qbpc51xqfq4d48nhrz5q80000gn/T/ipykernel_33698/2186410508.py:16: SettingWithCopyWarning: \n",
      "A value is trying to be set on a copy of a slice from a DataFrame.\n",
      "Try using .loc[row_indexer,col_indexer] = value instead\n",
      "\n",
      "See the caveats in the documentation: https://pandas.pydata.org/pandas-docs/stable/user_guide/indexing.html#returning-a-view-versus-a-copy\n",
      "  df['Lyrics_Length'] = df['Lyrics'].apply(lambda x: len(x.split()))\n"
     ]
    }
   ],
   "source": [
    "# Main function to run all steps\n",
    "def main(df):\n",
    "    # Step 1: Explore and clean data\n",
    "    df_clean = explore_data(df)\n",
    "\n",
    "    # Step 2: Preprocess lyrics\n",
    "    df_clean = preprocess_lyrics(df_clean)\n",
    "\n",
    "    # Step 3: Generate TF-IDF Embeddings\n",
    "    lyrics_tfidf = tfidf_embedding(df_clean)\n",
    "\n",
    "    # Step 4: Perform Exploratory Data Analysis\n",
    "    exploratory_analysis(df_clean)\n",
    "\n",
    "    return df_clean, lyrics_tfidf\n",
    "\n",
    "# Example usage:\n",
    "df = pd.read_csv('../data/hiphop_eras_songs.csv')\n",
    "df_clean, lyrics_tfidf = main(df)  \n",
    "# Save preprocessed data if needed\n",
    "# df_clean.to_csv(\"preprocessed_lyrics.csv\", index=False)"
   ]
  }
 ],
 "metadata": {
  "kernelspec": {
   "display_name": "venv",
   "language": "python",
   "name": "python3"
  },
  "language_info": {
   "codemirror_mode": {
    "name": "ipython",
    "version": 3
   },
   "file_extension": ".py",
   "mimetype": "text/x-python",
   "name": "python",
   "nbconvert_exporter": "python",
   "pygments_lexer": "ipython3",
   "version": "3.12.4"
  },
  "orig_nbformat": 4,
  "vscode": {
   "interpreter": {
    "hash": "26de8eda6ae319b2298f4f253d77994538e13b884c70b968c092ca99ae2b106d"
   }
  }
 },
 "nbformat": 4,
 "nbformat_minor": 2
}
